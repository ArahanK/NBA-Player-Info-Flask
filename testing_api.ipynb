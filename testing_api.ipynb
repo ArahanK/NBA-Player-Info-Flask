{
 "cells": [
  {
   "cell_type": "code",
   "execution_count": 2,
   "metadata": {},
   "outputs": [
    {
     "name": "stdout",
     "output_type": "stream",
     "text": [
      "ScoreBoardDate: 2022-10-24\n",
      "0022200044: Pacers vs. 76ers @ 2022-10-24 19:00:00-04:00\n",
      "0022200045: Raptors vs. Heat @ 2022-10-24 19:30:00-04:00\n",
      "0022200046: Magic vs. Knicks @ 2022-10-24 19:30:00-04:00\n",
      "0022200047: Celtics vs. Bulls @ 2022-10-24 20:00:00-04:00\n",
      "0022200048: Jazz vs. Rockets @ 2022-10-24 20:00:00-04:00\n",
      "0022200049: Nets vs. Grizzlies @ 2022-10-24 20:00:00-04:00\n",
      "0022200050: Spurs vs. Timberwolves @ 2022-10-24 20:00:00-04:00\n",
      "0022200051: Nuggets vs. Trail Blazers @ 2022-10-24 22:00:00-04:00\n"
     ]
    }
   ],
   "source": [
    "from datetime import datetime, timezone\n",
    "from dateutil import parser\n",
    "from nba_api.live.nba.endpoints import scoreboard\n",
    "\n",
    "f = \"{gameId}: {awayTeam} vs. {homeTeam} @ {gameTimeLTZ}\" \n",
    "\n",
    "board = scoreboard.ScoreBoard()\n",
    "print(\"ScoreBoardDate: \" + board.score_board_date)\n",
    "games = board.games.get_dict()\n",
    "for game in games:\n",
    "    gameTimeLTZ = parser.parse(game[\"gameTimeUTC\"]).replace(tzinfo=timezone.utc).astimezone(tz=None)\n",
    "    print(f.format(gameId=game['gameId'], awayTeam=game['awayTeam']['teamName'], homeTeam=game['homeTeam']['teamName'], gameTimeLTZ=gameTimeLTZ))"
   ]
  },
  {
   "cell_type": "code",
   "execution_count": 14,
   "metadata": {},
   "outputs": [
    {
     "ename": "AttributeError",
     "evalue": "'str' object has no attribute 'show'",
     "output_type": "error",
     "traceback": [
      "\u001b[0;31m---------------------------------------------------------------------------\u001b[0m",
      "\u001b[0;31mAttributeError\u001b[0m                            Traceback (most recent call last)",
      "Cell \u001b[0;32mIn [14], line 22\u001b[0m\n\u001b[1;32m     19\u001b[0m values \u001b[39m=\u001b[39m [\u001b[39mround\u001b[39m(row, \u001b[39m2\u001b[39m) \u001b[39mfor\u001b[39;00m row \u001b[39min\u001b[39;00m career[\u001b[39m'\u001b[39m\u001b[39mPPG\u001b[39m\u001b[39m'\u001b[39m]]\n\u001b[1;32m     20\u001b[0m plot_div \u001b[39m=\u001b[39m plot([Scatter(x\u001b[39m=\u001b[39mseason, y\u001b[39m=\u001b[39mvalues,\n\u001b[1;32m     21\u001b[0m                 mode\u001b[39m=\u001b[39m\u001b[39m'\u001b[39m\u001b[39mlines\u001b[39m\u001b[39m'\u001b[39m, name\u001b[39m=\u001b[39m\u001b[39m'\u001b[39m\u001b[39mPPG by Season\u001b[39m\u001b[39m'\u001b[39m, opacity\u001b[39m=\u001b[39m\u001b[39m1\u001b[39m, marker_color\u001b[39m=\u001b[39m\u001b[39m'\u001b[39m\u001b[39mred\u001b[39m\u001b[39m'\u001b[39m)], output_type\u001b[39m=\u001b[39m\u001b[39m'\u001b[39m\u001b[39mdiv\u001b[39m\u001b[39m'\u001b[39m)\n\u001b[0;32m---> 22\u001b[0m plot_div\u001b[39m.\u001b[39;49mshow()\n",
      "\u001b[0;31mAttributeError\u001b[0m: 'str' object has no attribute 'show'"
     ]
    }
   ],
   "source": [
    "from nba_api.stats.endpoints import playercareerstats\n",
    "import pandas\n",
    "import numpy\n",
    "from plotly.offline import plot\n",
    "from plotly.graph_objs import Scatter\n",
    "#for a player like nikola jokic\n",
    "career = playercareerstats.PlayerCareerStats(player_id='203999').get_data_frames()[0]\n",
    "career = pandas.DataFrame(career)\n",
    "career.pop(\"PLAYER_ID\")\n",
    "career.pop(\"TEAM_ID\")\n",
    "career.pop(\"LEAGUE_ID\")\n",
    "career.columns=['Season', 'Team', 'Age', 'GP', 'GS', 'Min', 'FGM', 'FGA', 'FG_PCT', 'FG3M', 'FG3A', 'FG3_PCT', 'FTM', 'FTA',\n",
    "       'FT_PCT', 'OREB', 'DREB', 'REB', 'AST', 'STL', 'BLK', 'TOV', 'PF','PTS']\n",
    "ppg = []\n",
    "for i in range(len(career['PTS'])):\n",
    "       ppg+=[career['PTS'][i]/career['GP'][i]]\n",
    "career['PPG']=ppg\n",
    "season = [row for row in career['Season']]\n",
    "values = [round(row, 2) for row in career['PPG']]\n",
    "plot_div = plot([Scatter(x=season, y=values,\n",
    "                mode='lines', name='PPG by Season', opacity=1, marker_color='red')], output_type='div')\n"
   ]
  },
  {
   "cell_type": "code",
   "execution_count": 1,
   "metadata": {},
   "outputs": [
    {
     "data": {
      "text/plain": [
       "[{'id': 1628369,\n",
       "  'full_name': 'Jayson Tatum',\n",
       "  'first_name': 'Jayson',\n",
       "  'last_name': 'Tatum',\n",
       "  'is_active': True}]"
      ]
     },
     "execution_count": 1,
     "metadata": {},
     "output_type": "execute_result"
    }
   ],
   "source": [
    "from nba_api.stats.static import players\n",
    "player_list = players.find_players_by_full_name('Jayson Tatum')\n",
    "player_list\n"
   ]
  },
  {
   "cell_type": "code",
   "execution_count": 20,
   "metadata": {},
   "outputs": [
    {
     "data": {
      "text/plain": [
       "0    1.30\n",
       "1    2.34\n",
       "2    2.80\n",
       "3    3.10\n",
       "4    3.10\n",
       "5    3.08\n",
       "6    3.80\n",
       "7    3.00\n",
       "Name: TOV, dtype: float64"
      ]
     },
     "execution_count": 20,
     "metadata": {},
     "output_type": "execute_result"
    }
   ],
   "source": [
    "from nba_api.stats.endpoints import playercareerstats\n",
    "import pandas\n",
    "import numpy\n",
    "from plotly.offline import plot\n",
    "from plotly.graph_objs import Scatter\n",
    "#for a player like nikola jokic\n",
    "career = playercareerstats.PlayerCareerStats(player_id='203999').get_data_frames()[0]\n",
    "career = pandas.DataFrame(career)\n",
    "career.pop(\"PLAYER_ID\")\n",
    "career.pop(\"TEAM_ID\")\n",
    "career.pop(\"LEAGUE_ID\")\n",
    "career.columns=['Season', 'Team', 'Age', 'GP', 'GS', 'Min', 'FGM', 'FGA', 'FG_PCT', 'FG3M', 'FG3A', 'FG3_PCT', 'FTM', 'FTA',\n",
    "       'FT_PCT', 'OREB', 'DREB', 'REB', 'AST', 'STL', 'BLK', 'TOV', 'PF','PTS']\n",
    "ppg = []\n",
    "tov = []\n",
    "for i in range(len(career['PTS'])):\n",
    "       ppg+=[career['PTS'][i]/career['GP'][i]]\n",
    "       tov += [round(career['TOV'][i]/career['GP'][i], 2)]\n",
    "\n",
    "career['TOV'] = tov\n",
    "career['TOV']\n"
   ]
  },
  {
   "cell_type": "code",
   "execution_count": 26,
   "metadata": {},
   "outputs": [
    {
     "data": {
      "text/plain": [
       "'https://nba-players.herokuapp.com/players/Tatum/Jayson'"
      ]
     },
     "execution_count": 26,
     "metadata": {},
     "output_type": "execute_result"
    }
   ],
   "source": [
    "res = \"Jayson Tatum\"\n",
    "first_name = res.split(\" \")[:1][0]\n",
    "last_name = res.split(\" \")[1:][0]\n",
    "string = f\"https://nba-players.herokuapp.com/players/{last_name}/{first_name}\"\n",
    "string"
   ]
  }
 ],
 "metadata": {
  "kernelspec": {
   "display_name": "Python 3.10.6 ('nba_flask')",
   "language": "python",
   "name": "python3"
  },
  "language_info": {
   "codemirror_mode": {
    "name": "ipython",
    "version": 3
   },
   "file_extension": ".py",
   "mimetype": "text/x-python",
   "name": "python",
   "nbconvert_exporter": "python",
   "pygments_lexer": "ipython3",
   "version": "3.10.6"
  },
  "orig_nbformat": 4,
  "vscode": {
   "interpreter": {
    "hash": "3e1af5d791bd5d7b74c92a0c631df0d03e3a7ecc41e919a864ebaf0e379176d5"
   }
  }
 },
 "nbformat": 4,
 "nbformat_minor": 2
}
